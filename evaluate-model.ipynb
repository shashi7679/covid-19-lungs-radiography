{
 "cells": [
  {
   "cell_type": "code",
   "execution_count": 1,
   "metadata": {},
   "outputs": [],
   "source": [
    "import tensorflow as tf\n",
    "from tensorflow.keras import layers, models\n",
    "import matplotlib.pyplot as plt\n",
    "from tensorflow.python.keras.layers.normalization_v2 import BatchNormalization\n",
    "import numpy as np"
   ]
  },
  {
   "cell_type": "code",
   "execution_count": 2,
   "metadata": {},
   "outputs": [],
   "source": [
    "BATCH_SIZE = 32\n",
    "IMAGE_SIZE = 120\n",
    "Channel = 1\n",
    "n_class = 4"
   ]
  },
  {
   "cell_type": "code",
   "execution_count": 3,
   "metadata": {},
   "outputs": [
    {
     "name": "stdout",
     "output_type": "stream",
     "text": [
      "Found 21165 files belonging to 4 classes.\n"
     ]
    }
   ],
   "source": [
    "dataset = tf.keras.preprocessing.image_dataset_from_directory(\n",
    "    \"dataset/COVID-19_Radiography_Dataset\",\n",
    "    shuffle=True,\n",
    "    image_size=(IMAGE_SIZE, IMAGE_SIZE),\n",
    "    batch_size=BATCH_SIZE,\n",
    "    color_mode='grayscale')\n",
    "class_names = dataset.class_names"
   ]
  },
  {
   "cell_type": "code",
   "execution_count": 4,
   "metadata": {},
   "outputs": [],
   "source": [
    "def get_dataset_partition(dataset,train_split=0.98,dev_split=0.02,shuffle=True, shuffle_size=10000):\n",
    "    assert (train_split + dev_split) == 1\n",
    "    data_size = len(dataset)\n",
    "    if shuffle:\n",
    "        dataset = dataset.shuffle(shuffle_size, seed=12)\n",
    "    train_size = int(train_split * data_size)\n",
    "\n",
    "    train_data = dataset.take(train_size)\n",
    "    dev_data = dataset.skip(train_size)\n",
    "    return train_data, dev_data"
   ]
  },
  {
   "cell_type": "code",
   "execution_count": 5,
   "metadata": {},
   "outputs": [],
   "source": [
    "train_data, dev_data = get_dataset_partition(dataset,train_split=0.98,dev_split=0.02,shuffle=True)\n",
    "\n",
    "dev_data = dev_data.cache().shuffle(1000).prefetch(buffer_size=tf.data.AUTOTUNE)"
   ]
  },
  {
   "cell_type": "code",
   "execution_count": 7,
   "metadata": {},
   "outputs": [],
   "source": [
    "model = tf.keras.models.load_model('covid-19-lungs-120-adam-Dropout.h5')"
   ]
  },
  {
   "cell_type": "code",
   "execution_count": 11,
   "metadata": {},
   "outputs": [
    {
     "name": "stdout",
     "output_type": "stream",
     "text": [
      "14/14 [==============================] - 1s 40ms/step - loss: 0.5907 - accuracy: 0.7790\n"
     ]
    }
   ],
   "source": [
    "score = model.evaluate(dev_data)\n",
    "pred = model.predict(dev_data)"
   ]
  },
  {
   "cell_type": "code",
   "execution_count": 13,
   "metadata": {},
   "outputs": [
    {
     "data": {
      "text/plain": [
       "<tf.Tensor: shape=(448,), dtype=int64, numpy=\n",
       "array([1, 2, 1, 2, 2, 3, 2, 1, 1, 1, 1, 1, 2, 2, 1, 1, 1, 2, 1, 1, 2, 2,\n",
       "       2, 2, 1, 2, 2, 2, 2, 2, 1, 2, 1, 2, 1, 2, 3, 0, 2, 0, 2, 1, 1, 2,\n",
       "       2, 1, 2, 2, 2, 1, 2, 0, 2, 3, 1, 1, 2, 2, 2, 2, 1, 2, 1, 2, 1, 2,\n",
       "       2, 1, 2, 1, 2, 1, 2, 1, 2, 2, 1, 1, 1, 2, 2, 0, 1, 2, 2, 2, 2, 1,\n",
       "       2, 2, 2, 3, 1, 2, 2, 2, 1, 1, 1, 2, 2, 1, 2, 1, 2, 2, 1, 2, 2, 1,\n",
       "       1, 2, 3, 2, 2, 2, 2, 2, 1, 2, 2, 0, 2, 1, 2, 2, 1, 2, 2, 2, 1, 2,\n",
       "       2, 2, 2, 0, 2, 2, 2, 2, 2, 2, 0, 1, 2, 2, 2, 3, 3, 1, 1, 2, 2, 2,\n",
       "       2, 2, 1, 2, 2, 2, 2, 2, 1, 1, 2, 0, 2, 1, 2, 2, 2, 1, 1, 1, 0, 1,\n",
       "       0, 2, 2, 2, 3, 2, 1, 2, 2, 1, 1, 2, 2, 2, 2, 2, 2, 1, 2, 2, 2, 2,\n",
       "       1, 2, 3, 2, 2, 1, 2, 2, 0, 1, 2, 2, 1, 2, 2, 2, 2, 2, 2, 2, 1, 2,\n",
       "       3, 2, 2, 2, 2, 2, 2, 2, 2, 2, 2, 2, 0, 2, 2, 2, 2, 1, 2, 1, 0, 2,\n",
       "       1, 2, 2, 2, 2, 1, 1, 1, 2, 2, 2, 2, 1, 2, 2, 2, 2, 2, 2, 2, 1, 2,\n",
       "       1, 0, 2, 2, 3, 2, 2, 2, 2, 2, 1, 2, 2, 1, 1, 0, 2, 2, 1, 1, 2, 2,\n",
       "       0, 2, 2, 2, 2, 2, 1, 2, 2, 2, 2, 0, 2, 3, 2, 2, 1, 2, 2, 2, 2, 1,\n",
       "       2, 2, 2, 1, 2, 2, 1, 2, 0, 2, 2, 2, 1, 1, 2, 2, 2, 1, 2, 0, 2, 2,\n",
       "       2, 2, 3, 2, 0, 2, 1, 2, 2, 2, 1, 2, 2, 2, 0, 2, 0, 2, 0, 1, 1, 0,\n",
       "       0, 3, 1, 2, 2, 2, 2, 2, 1, 1, 1, 2, 2, 0, 2, 0, 2, 2, 2, 2, 2, 2,\n",
       "       2, 1, 0, 2, 2, 3, 2, 0, 2, 1, 1, 1, 1, 2, 1, 2, 2, 2, 1, 2, 1, 2,\n",
       "       1, 0, 2, 2, 0, 2, 2, 2, 1, 0, 2, 2, 2, 2, 2, 2, 2, 2, 2, 0, 1, 2,\n",
       "       2, 2, 2, 1, 1, 1, 1, 0, 0, 2, 2, 0, 2, 2, 2, 2, 2, 1, 2, 2, 1, 1,\n",
       "       0, 2, 2, 2, 2, 2, 2, 2], dtype=int64)>"
      ]
     },
     "execution_count": 13,
     "metadata": {},
     "output_type": "execute_result"
    }
   ],
   "source": [
    "predicted_category = tf.argmax(pred,axis=1)\n",
    "predicted_category"
   ]
  },
  {
   "cell_type": "code",
   "execution_count": 14,
   "metadata": {},
   "outputs": [
    {
     "data": {
      "text/plain": [
       "<tf.Tensor: shape=(448,), dtype=int32, numpy=\n",
       "array([2, 2, 2, 1, 2, 3, 2, 2, 1, 1, 2, 2, 2, 1, 2, 1, 0, 2, 1, 0, 0, 1,\n",
       "       2, 1, 2, 1, 2, 1, 2, 2, 1, 2, 2, 3, 0, 1, 2, 3, 1, 2, 1, 0, 2, 2,\n",
       "       3, 2, 1, 2, 2, 1, 1, 1, 2, 1, 1, 0, 2, 2, 1, 1, 2, 2, 0, 1, 1, 2,\n",
       "       3, 2, 1, 1, 1, 1, 1, 0, 0, 2, 2, 0, 2, 2, 2, 0, 2, 1, 2, 0, 1, 1,\n",
       "       0, 2, 2, 0, 1, 2, 2, 0, 1, 1, 1, 2, 2, 1, 2, 0, 2, 2, 2, 2, 1, 1,\n",
       "       1, 2, 3, 2, 1, 1, 2, 1, 1, 2, 2, 0, 2, 0, 2, 2, 1, 1, 2, 1, 0, 2,\n",
       "       0, 3, 1, 0, 2, 2, 0, 2, 2, 2, 0, 1, 2, 2, 2, 3, 3, 1, 0, 2, 0, 2,\n",
       "       2, 2, 1, 2, 2, 2, 1, 1, 1, 2, 1, 2, 2, 2, 1, 0, 1, 0, 1, 0, 0, 2,\n",
       "       0, 2, 2, 2, 1, 0, 2, 2, 0, 2, 2, 2, 2, 2, 2, 1, 1, 2, 1, 1, 0, 3,\n",
       "       2, 1, 1, 1, 1, 1, 1, 2, 1, 1, 1, 2, 1, 1, 2, 2, 2, 2, 1, 2, 2, 2,\n",
       "       1, 2, 1, 2, 1, 2, 3, 0, 1, 0, 2, 2, 2, 0, 2, 3, 2, 0, 1, 2, 2, 1,\n",
       "       1, 1, 1, 2, 3, 1, 2, 2, 1, 2, 0, 2, 2, 2, 2, 2, 2, 2, 2, 0, 1, 2,\n",
       "       3, 1, 0, 1, 2, 2, 0, 1, 2, 2, 1, 2, 0, 2, 2, 2, 2, 2, 1, 2, 3, 0,\n",
       "       0, 2, 1, 2, 2, 1, 2, 1, 2, 1, 0, 1, 2, 2, 1, 1, 1, 2, 2, 0, 1, 2,\n",
       "       2, 2, 1, 2, 2, 2, 2, 3, 1, 2, 2, 2, 1, 1, 2, 0, 2, 2, 2, 0, 2, 0,\n",
       "       0, 2, 3, 0, 2, 2, 1, 0, 1, 2, 1, 2, 0, 2, 0, 1, 1, 2, 0, 1, 1, 0,\n",
       "       2, 2, 1, 2, 2, 0, 0, 1, 2, 1, 1, 1, 1, 1, 0, 1, 0, 2, 2, 2, 3, 0,\n",
       "       1, 2, 0, 1, 1, 2, 2, 2, 3, 2, 1, 2, 1, 2, 3, 0, 0, 0, 1, 2, 1, 2,\n",
       "       2, 0, 2, 1, 2, 1, 2, 0, 3, 3, 1, 1, 2, 2, 1, 2, 1, 2, 1, 1, 0, 3,\n",
       "       1, 2, 2, 2, 2, 0, 0, 1, 1, 2, 1, 0, 2, 0, 2, 2, 2, 3, 2, 2, 2, 1,\n",
       "       0, 2, 0, 3, 2, 0, 2, 1])>"
      ]
     },
     "execution_count": 14,
     "metadata": {},
     "output_type": "execute_result"
    }
   ],
   "source": [
    "true_categories = tf.concat([y for x,y in dev_data],axis=0)\n",
    "true_categories"
   ]
  },
  {
   "cell_type": "code",
   "execution_count": 23,
   "metadata": {},
   "outputs": [
    {
     "name": "stdout",
     "output_type": "stream",
     "text": [
      "[0.26785714 0.375      0.60655738 0.25      ]\n"
     ]
    },
    {
     "data": {
      "text/plain": [
       "<AxesSubplot:>"
      ]
     },
     "execution_count": 23,
     "metadata": {},
     "output_type": "execute_result"
    },
    {
     "data": {
      "image/png": "[encoded data removed]",
      "text/plain": [
       "<Figure size 432x288 with 2 Axes>"
      ]
     },
     "metadata": {
      "needs_background": "light"
     },
     "output_type": "display_data"
    }
   ],
   "source": [
    "from sklearn.metrics import f1_score,confusion_matrix\n",
    "import seaborn as sns\n",
    "\n",
    "f1 = f1_score(y_true = true_categories,y_pred = predicted_category,average= None)\n",
    "print(f1)\n",
    "cm = confusion_matrix(true_categories,predicted_category)\n",
    "sns.heatmap(cm,annot = True)"
   ]
  }
 ],
 "metadata": {
  "interpreter": {
   "hash": "1bb0b362f26668dab5e215d6d9db07ac82d94579e03c1f0d614a94e491cb2a73"
  },
  "kernelspec": {
   "display_name": "Python 3.9.7 64-bit",
   "language": "python",
   "name": "python3"
  },
  "language_info": {
   "codemirror_mode": {
    "name": "ipython",
    "version": 3
   },
   "file_extension": ".py",
   "mimetype": "text/x-python",
   "name": "python",
   "nbconvert_exporter": "python",
   "pygments_lexer": "ipython3",
   "version": "3.9.7"
  },
  "orig_nbformat": 4
 },
 "nbformat": 4,
 "nbformat_minor": 2
}
